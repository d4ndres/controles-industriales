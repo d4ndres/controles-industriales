{
 "cells": [
  {
   "cell_type": "markdown",
   "metadata": {},
   "source": [
    "# Maestría en Controles Industriales\n",
    "### Entregable 3: Estructuras y Funciones\n",
    "### Autor: Diego Andres Rojas Gonzalez\n",
    "### Docente: Dr. Oscar J. Suarez\n",
    "### Matemática Aplicada\n",
    "### Universidad de Pamplona"
   ]
  },
  {
   "cell_type": "markdown",
   "metadata": {},
   "source": [
    "# 1.- Importar librerias"
   ]
  },
  {
   "cell_type": "code",
   "execution_count": 7,
   "metadata": {},
   "outputs": [],
   "source": [
    "import numpy as np"
   ]
  },
  {
   "cell_type": "markdown",
   "metadata": {},
   "source": [
    "# 2.- Estructuras básicas\n",
    "\n",
    "Tip 1: Utilizan los ciclos for cuando conoces la cantidad de repeticiones que deben pasar para avanzar a la siguiente secuencia.\n",
    "Tip 2: Se utiliza los ciclos while cuando la cantidad de repeticiones depende de que se cumpla una condicion especifica o determinada. Cuando se cumpla la condicion se puede avanzar a la siguiente secuencia o finalizar la interacción."
   ]
  },
  {
   "cell_type": "code",
   "execution_count": 8,
   "metadata": {},
   "outputs": [
    {
     "name": "stdout",
     "output_type": "stream",
     "text": [
      "[ 0  1  2  3  4  5  6  7  8  9 10]\n",
      "Clasificación de números por estructura for +  condicional \n",
      "\n",
      "0 par\n",
      "1 impar\n",
      "2 par\n",
      "3 impar\n",
      "4 par\n",
      "5 impar\n",
      "6 par\n",
      "7 impar\n",
      "8 par\n",
      "9 impar\n",
      "10 par\n",
      "=============================================\n",
      "Clasificación de números por estructura while \n",
      "\n",
      "0 par\n",
      "1 impar\n",
      "2 par\n",
      "3 impar\n",
      "4 par\n",
      "5 impar\n",
      "6 par\n",
      "7 impar\n",
      "8 par\n",
      "9 impar\n",
      "10 par\n"
     ]
    }
   ],
   "source": [
    "#Crear el arreglo\n",
    "x = np.linspace(0,10,11).astype(\"int\")\n",
    "print(x)\n",
    "#Programa para clasificar los números pares e impares\n",
    "print(\"Clasificación de números por estructura for +  condicional \\n\")\n",
    "for i in range(x.shape[0]):\n",
    "    if x[i] % 2 == 0:\n",
    "        print(f\"{x[i]} par\")\n",
    "    else:\n",
    "        print(f\"{x[i]} impar\")\n",
    "print(\"=============================================\")\n",
    "\n",
    "\n",
    "#Programa para clasificar números pares e impares utilizando la sentencia while\n",
    "i = 0\n",
    "print(\"Clasificación de números por estructura while \\n\")\n",
    "while i < x.shape[0]:\n",
    "    if x[i] % 2 == 0:\n",
    "        print(f\"{x[i]} par\")\n",
    "    else:\n",
    "        print(f\"{x[i]} impar\")\n",
    "    i += 1"
   ]
  },
  {
   "cell_type": "markdown",
   "metadata": {},
   "source": [
    "# 3.- Creación de funciones\n",
    "\n",
    "Tip: Una función permite definir un bloque de código reutilizable que se puede ejecutar muchas veces dentro del programa. Las funciones permiten soluciones más modulares para problemas complejos."
   ]
  },
  {
   "cell_type": "code",
   "execution_count": 9,
   "metadata": {},
   "outputs": [],
   "source": [
    "#Programar una sumatoria desde n-1 hasta 0\n",
    "def sumatoria( a ):\n",
    "  #Inicializamos la sumatoria\n",
    "  smt = 0\n",
    "  #suma n-1\n",
    "  for i in range(a):\n",
    "    smt += a - i\n",
    "  return smt"
   ]
  },
  {
   "cell_type": "code",
   "execution_count": 10,
   "metadata": {},
   "outputs": [
    {
     "name": "stdout",
     "output_type": "stream",
     "text": [
      "La sumatoria de 7 es: 28\n"
     ]
    }
   ],
   "source": [
    "print(\"La sumatoria de 7 es: \" + str(sumatoria(7)))"
   ]
  },
  {
   "cell_type": "code",
   "execution_count": 11,
   "metadata": {},
   "outputs": [],
   "source": [
    "#programamos la función para la serie de Fibonacci. Solución por recursividad\n",
    "def fibonacci(n):\n",
    "  #Inicializamos el primer elemento\n",
    "  f = 0\n",
    "  #Calculamos la serie de fibonacci\n",
    "  if n == 1:\n",
    "    return f\n",
    "  else:\n",
    "    #elemento anterior\n",
    "    r = f\n",
    "    #segundo elemento\n",
    "    f = 1\n",
    "    for i in range(n-2):\n",
    "      f=f+r\n",
    "      r=f-r\n",
    "    return f\n"
   ]
  },
  {
   "cell_type": "code",
   "execution_count": 12,
   "metadata": {},
   "outputs": [
    {
     "name": "stdout",
     "output_type": "stream",
     "text": [
      "El elemento 9 de la serie de fibonacci es: 21\n"
     ]
    }
   ],
   "source": [
    "elemento = 9\n",
    "print(f\"El elemento {elemento} de la serie de fibonacci es: {fibonacci(elemento)}\")"
   ]
  }
 ],
 "metadata": {
  "kernelspec": {
   "display_name": "Python 3",
   "language": "python",
   "name": "python3"
  },
  "language_info": {
   "codemirror_mode": {
    "name": "ipython",
    "version": 3
   },
   "file_extension": ".py",
   "mimetype": "text/x-python",
   "name": "python",
   "nbconvert_exporter": "python",
   "pygments_lexer": "ipython3",
   "version": "3.12.2"
  }
 },
 "nbformat": 4,
 "nbformat_minor": 2
}
