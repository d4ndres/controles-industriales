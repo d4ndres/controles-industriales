{
 "cells": [
  {
   "cell_type": "code",
   "execution_count": 2,
   "metadata": {},
   "outputs": [],
   "source": [
    "import numpy as np\n",
    "import sympy as sym\n",
    "import matplotlib.pyplot as plt\n",
    "\n",
    "#para imprimir de una forma pebella\n",
    "# sys.init_printing()\n",
    "from sympy import init_printing as sprint\n",
    "\n",
    "END_BLOCK = \"==========================\""
   ]
  },
  {
   "cell_type": "code",
   "execution_count": 3,
   "metadata": {},
   "outputs": [
    {
     "name": "stdout",
     "output_type": "stream",
     "text": [
      "S**2*m1*x1 + S*b1*x1 - x1*(k2 + k3)**2/(S**2*m2 + k2 + k3) + x1*(k1 + k2 + k3)\n",
      "                                  2                     \n",
      " 2                    x₁⋅(k₂ + k₃)                      \n",
      "S ⋅m₁⋅x₁ + S⋅b₁⋅x₁ - ─────────────── + x₁⋅(k₁ + k₂ + k₃)\n",
      "                      2                                 \n",
      "                     S ⋅m₂ + k₂ + k₃                    \n",
      "                                                          2 \n",
      " 2                                            x₁⋅(k₂ + k₃)  \n",
      "S ⋅m₁⋅x₁ + S⋅b₁⋅x₁ + k₁⋅x₁ + k₂⋅x₁ + k₃⋅x₁ - ───────────────\n",
      "                                              2             \n",
      "                                             S ⋅m₂ + k₂ + k₃\n"
     ]
    }
   ],
   "source": [
    "m1,S,x1,b1,k1,k2,k3,x2, m2, x2 = sym.symbols('m1,S,x1,b1,k1,k2,k3,x2, m2, x2', real=True)\n",
    "\n",
    "e3 = x1*m1*S**(2) + b1*S*x1+x1*(k1+k2+k3) - x2*(k2+k3)\n",
    "e5 = x1*(k2+k3) / (m2*S**2 + k2 + k3)\n",
    "r = e3.subs(x2,e5)\n",
    "\n",
    "print(r)\n",
    "print(f\"{sym.pretty(r)}\")\n",
    "print(sym.pretty(r.apart(S)))\n",
    "\n"
   ]
  },
  {
   "cell_type": "code",
   "execution_count": 8,
   "metadata": {},
   "outputs": [
    {
     "name": "stdout",
     "output_type": "stream",
     "text": [
      "x1*(-(k2 + k3)**2 + (S**2*m2 + k2 + k3)*(S**2*m1 + S*b1 + k1 + k2 + k3))/(S**2*m2 + k2 + k3)\n",
      "\n",
      "\n",
      "\n",
      "\n",
      "   ⎛           2   ⎛ 2             ⎞ ⎛ 2                         ⎞⎞\n",
      "x₁⋅⎝- (k₂ + k₃)  + ⎝S ⋅m₂ + k₂ + k₃⎠⋅⎝S ⋅m₁ + S⋅b₁ + k₁ + k₂ + k₃⎠⎠\n",
      "───────────────────────────────────────────────────────────────────\n",
      "                           2                                       \n",
      "                          S ⋅m₂ + k₂ + k₃                          \n",
      "\n",
      "\n",
      "\n",
      "\n",
      " 4             3             2             2             2             2      \n",
      "S ⋅m₁⋅m₂⋅x₁ + S ⋅b₁⋅m₂⋅x₁ + S ⋅k₁⋅m₂⋅x₁ + S ⋅k₂⋅m₁⋅x₁ + S ⋅k₂⋅m₂⋅x₁ + S ⋅k₃⋅m₁\n",
      "──────────────────────────────────────────────────────────────────────────────\n",
      "                                                                 2            \n",
      "                                                                S ⋅m₂ + k₂ + k\n",
      "\n",
      "       2                                                         \n",
      "⋅x₁ + S ⋅k₃⋅m₂⋅x₁ + S⋅b₁⋅k₂⋅x₁ + S⋅b₁⋅k₃⋅x₁ + k₁⋅k₂⋅x₁ + k₁⋅k₃⋅x₁\n",
      "─────────────────────────────────────────────────────────────────\n",
      "                                                                 \n",
      "₃                                                                \n"
     ]
    }
   ],
   "source": [
    "r_simplified = sym.simplify(r)\n",
    "\n",
    "print(r_simplified)\n",
    "print('\\n\\n\\n')\n",
    "print(f\"{sym.pretty(r_simplified)}\")\n",
    "print('\\n\\n\\n')\n",
    "print(sym.pretty(r_simplified.apart(S**(-1))))"
   ]
  },
  {
   "cell_type": "code",
   "execution_count": 7,
   "metadata": {},
   "outputs": [
    {
     "name": "stdout",
     "output_type": "stream",
     "text": [
      "(0.95*S**2 + 2)/(0.817*S**4 + 2.128*S**3 + 5.045*S**2 + 4.48*S + 3.0)\n"
     ]
    }
   ],
   "source": [
    "go = (m2*S**2+k2+k3)/(m1*m2*S**4+m2*b1*S**3+S**2 * (m1*k2+m1*k3+m2*k1+m2*k2+m2*k3)+b1*S*(k2+k3)+k1*(k2+k3))\n",
    "print(go.subs({\n",
    "  m1: 0.86,\n",
    "  m2: 0.95,\n",
    "  k2: 1,\n",
    "  k3: 1,\n",
    "  k1: 1.5,\n",
    "  b1: 2.24\n",
    "}))"
   ]
  },
  {
   "cell_type": "code",
   "execution_count": 12,
   "metadata": {},
   "outputs": [
    {
     "name": "stdout",
     "output_type": "stream",
     "text": [
      "(0.86*S**2*x1 + 2.24*S*x1 + 3.5*x1 - 4*x1/(0.95*S**2 + 2))/x1\n"
     ]
    }
   ],
   "source": []
  }
 ],
 "metadata": {
  "kernelspec": {
   "display_name": "Python 3",
   "language": "python",
   "name": "python3"
  },
  "language_info": {
   "codemirror_mode": {
    "name": "ipython",
    "version": 3
   },
   "file_extension": ".py",
   "mimetype": "text/x-python",
   "name": "python",
   "nbconvert_exporter": "python",
   "pygments_lexer": "ipython3",
   "version": "3.12.2"
  }
 },
 "nbformat": 4,
 "nbformat_minor": 2
}
