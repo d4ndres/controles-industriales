{
 "cells": [
  {
   "cell_type": "markdown",
   "metadata": {},
   "source": [
    "# Maestría en Controles Industriales\n",
    "### Entregable 1: Introducción a Numpy\n",
    "### Autor: Diego Andres Rojas Gonzalez\n",
    "### Docente: Dr. Oscar J. Suarez\n",
    "### Matemática Aplicada\n",
    "### Universidad de Pamplona"
   ]
  },
  {
   "cell_type": "markdown",
   "metadata": {},
   "source": [
    "# Introducción a manejo de vectores y matrices con Numpy"
   ]
  },
  {
   "cell_type": "markdown",
   "metadata": {},
   "source": [
    "En este tutorial aprenderemos a realizar operaciones básicas de algebra lineal usando la libreria Numpy de Python"
   ]
  },
  {
   "cell_type": "markdown",
   "metadata": {},
   "source": [
    "## 1.- Importar libreria Numpy"
   ]
  },
  {
   "cell_type": "markdown",
   "metadata": {},
   "source": [
    "Numpy es una librería desarrollada para Python que permite crear arreglos y hacer operaciones algebraícas de manera muy sencilla. "
   ]
  },
  {
   "cell_type": "code",
   "execution_count": 1,
   "metadata": {},
   "outputs": [],
   "source": [
    "#importamos numpy\n",
    "import numpy as np"
   ]
  },
  {
   "cell_type": "markdown",
   "metadata": {},
   "source": [
    "## 2.- Creación de arreglos con Numpy"
   ]
  },
  {
   "cell_type": "markdown",
   "metadata": {},
   "source": [
    "Se pueden crear arreglos en numpy haciendo uso de la clase array() de numpy"
   ]
  },
  {
   "cell_type": "code",
   "execution_count": 2,
   "metadata": {},
   "outputs": [
    {
     "name": "stdout",
     "output_type": "stream",
     "text": [
      "[35  2 20  7]\n",
      "=====================================\n",
      "El tamaño de v es: (4,)\n",
      "=====================================\n",
      "[[ 3 -8  5]\n",
      " [17 10 52]\n",
      " [ 1  5 12]]\n",
      "=====================================\n",
      "El tamaño de A es:(3, 3)\n",
      "El tamaño de A es:(3, 3)\n"
     ]
    }
   ],
   "source": [
    "#Crea un vector fila\n",
    "v = np.array([35, 2, 20, 7])\n",
    "\n",
    "#imprimir el arreglo y el tamaño\n",
    "print(v)\n",
    "print(\"=====================================\")\n",
    "print(f\"El tamaño de v es: {v.shape}\")\n",
    "\n",
    "#Crear una matriz de 3x3\n",
    "A = np.array([[3, -8, 5], \n",
    "              [17, 10, 52], \n",
    "              [1, 5, 12]])\n",
    "print(\"=====================================\")\n",
    "print(A)\n",
    "print(\"=====================================\")\n",
    "print(f\"El tamaño de A es:{A.shape}\")\n",
    "print(f\"El tamaño de A es:\" + str(A.shape))"
   ]
  },
  {
   "cell_type": "markdown",
   "metadata": {},
   "source": [
    "La clase array posee varios métodos que permiten hacer operaciones sencillas sobre los arreglos, así como consultar o sustituir sus elementos."
   ]
  },
  {
   "cell_type": "code",
   "execution_count": 3,
   "metadata": {},
   "outputs": [
    {
     "name": "stdout",
     "output_type": "stream",
     "text": [
      "=====================================\n",
      "La posición de la matriz A[2,2] = 12\n",
      "=====================================\n",
      "La posición de la matriz A[0,0] = 3\n",
      "=====================================\n",
      "[[ 3  3  5]\n",
      " [17  4 52]\n",
      " [ 1  5 12]]\n"
     ]
    }
   ],
   "source": [
    "#Consultar elementos de la matriz\n",
    "print(\"=====================================\")\n",
    "print(\"La posición de la matriz A[2,2] = \" + str(A[2,2]))\n",
    "print(\"=====================================\")\n",
    "print(\"La posición de la matriz A[0,0] = \" + str(A[0,0]))\n",
    "\n",
    "#Sustituir un valor o elemento de la matriz\n",
    "A[0,1] = 3\n",
    "A[1,1] = 4\n",
    "print(\"=====================================\")\n",
    "print(A)\n"
   ]
  },
  {
   "cell_type": "markdown",
   "metadata": {},
   "source": [
    "Es posible hacer consultas sobre multiples elementos del arreglo haciendo uso del operador : sobre los índices"
   ]
  },
  {
   "cell_type": "code",
   "execution_count": 4,
   "metadata": {},
   "outputs": [
    {
     "name": "stdout",
     "output_type": "stream",
     "text": [
      "=====================================\n",
      "A[0:2, 0] = [ 3 17]\n",
      "=====================================\n",
      "A[:,0] = [ 3 17  1]\n"
     ]
    }
   ],
   "source": [
    "print(\"=====================================\")\n",
    "print(\"A[0:2, 0] = \" + str(A[0:2, 0])) # Caso posición\n",
    "print(\"=====================================\")\n",
    "print(\"A[:,0] = \"+str(A[:,0])) # Caso longitud\n"
   ]
  },
  {
   "cell_type": "markdown",
   "metadata": {},
   "source": [
    "Algunas de las operaciones sencillas de la clase array() de numpy son los siguientes"
   ]
  },
  {
   "cell_type": "code",
   "execution_count": 5,
   "metadata": {},
   "outputs": [
    {
     "name": "stdout",
     "output_type": "stream",
     "text": [
      "=====================================\n",
      "La transpuesta de la matriz A es: \n",
      "[[ 3 17  1]\n",
      " [ 3  4  5]\n",
      " [ 5 52 12]]\n",
      "=====================================\n",
      "La transpuesta de la matriz A es: \n",
      "[[ 3 17  1]\n",
      " [ 3  4  5]\n",
      " [ 5 52 12]]\n",
      "=====================================\n",
      "Redimensionamiento es: \n",
      "[[ 3]\n",
      " [17]\n",
      " [ 1]\n",
      " [ 3]\n",
      " [ 4]\n",
      " [ 5]\n",
      " [ 5]\n",
      " [52]\n",
      " [12]]\n"
     ]
    }
   ],
   "source": [
    "#Calcular la transpuesta de una matriz\n",
    "Mt = A.transpose()\n",
    "print(\"=====================================\")\n",
    "print(\"La transpuesta de la matriz A es: \\n\" + str(Mt))\n",
    "Mt = A.T\n",
    "print(\"=====================================\")\n",
    "print(\"La transpuesta de la matriz A es: \\n\" + str(Mt))\n",
    "\n",
    "#PAra redimensionar una matriz A (conservar los mismos elementos)\n",
    "Mr = Mt.reshape([9,1])\n",
    "print(\"=====================================\")\n",
    "print(\"Redimensionamiento es: \\n\" + str(Mr))"
   ]
  },
  {
   "cell_type": "markdown",
   "metadata": {},
   "source": [
    "## 3.- Inicialización avanzada \n",
    "Numpy permite crear arreglos de forma predeterminada, incluyendo arreglos de ceros, aleatorios, constantes, o por series"
   ]
  },
  {
   "cell_type": "code",
   "execution_count": 6,
   "metadata": {},
   "outputs": [
    {
     "name": "stdout",
     "output_type": "stream",
     "text": [
      "\n",
      "Tamaño de la matriz es\n",
      "(2, 4)\n",
      "=====================================\n",
      "La matriz z es: \n",
      "[[0. 0. 0. 0.]\n",
      " [0. 0. 0. 0.]]\n",
      "=====================================\n",
      "\n",
      "\n",
      "Tamaño de la matriz es\n",
      "(3, 3)\n",
      "=====================================\n",
      "La matriz z1 es: \n",
      "[[1. 1. 1.]\n",
      " [1. 1. 1.]\n",
      " [1. 1. 1.]]\n",
      "=====================================\n",
      "\n",
      "\n",
      "Tamaño del vector es\n",
      "(10,)\n",
      "=====================================\n",
      "El vector tiempo es: \n",
      "[ 0.          1.66666667  3.33333333  5.          6.66666667  8.33333333\n",
      " 10.         11.66666667 13.33333333 15.        ]\n",
      "=====================================\n",
      "\n",
      "\n",
      "Tamaño de la matriz es \n",
      "(4, 4)\n",
      "=====================================\n",
      "La matriz v2 es: \n",
      "[[0.92046143 0.66058374 0.38787024 0.33088655]\n",
      " [0.08489282 0.3290624  0.03598626 0.48092811]\n",
      " [0.38452524 0.37832257 0.05279765 0.99587412]\n",
      " [0.96217555 0.85221544 0.07309373 0.54777477]]\n",
      "=====================================\n",
      "\n"
     ]
    }
   ],
   "source": [
    "#Para crear matriz de ceros np.zeros((filas, columnas))\n",
    "z = np.zeros((2,4))\n",
    "print(f\"\"\"\n",
    "Tamaño de la matriz es\n",
    "{z.shape}\n",
    "=====================================\n",
    "La matriz z es: \n",
    "{z}\n",
    "=====================================\n",
    "\"\"\")\n",
    "\n",
    "#Para crear matriz de unos np.zeros((filas, columnas))\n",
    "z1 = np.ones((3,3))\n",
    "print(f\"\"\"\n",
    "Tamaño de la matriz es\n",
    "{z1.shape}\n",
    "=====================================\n",
    "La matriz z1 es: \n",
    "{z1}\n",
    "=====================================\n",
    "\"\"\")\n",
    "\n",
    "#Crear el vector lineal (inicio, fin, pasos)\n",
    "t = np.linspace(0, 15, 10)\n",
    "print(f\"\"\"\n",
    "Tamaño del vector es\n",
    "{t.shape}\n",
    "=====================================\n",
    "El vector tiempo es: \n",
    "{t}\n",
    "=====================================\n",
    "\"\"\")\n",
    "\n",
    "#Crear una matriz aleatoria\n",
    "v2 = np.random.rand(4,4)\n",
    "print(f\"\"\"\n",
    "Tamaño de la matriz es \n",
    "{v2.shape}\n",
    "=====================================\n",
    "La matriz v2 es: \n",
    "{v2}\n",
    "=====================================\n",
    "\"\"\")"
   ]
  },
  {
   "cell_type": "markdown",
   "metadata": {},
   "source": [
    "## 4.- Operaciones con arreglos\n",
    "Numpy permite hacer operaciones básicas con arreglos tales como suma, resta, producto punto y producto patricial. "
   ]
  },
  {
   "cell_type": "code",
   "execution_count": 7,
   "metadata": {},
   "outputs": [
    {
     "name": "stdout",
     "output_type": "stream",
     "text": [
      "a= \n",
      "[[ 8.09007646]\n",
      " [-7.97200574]\n",
      " [-8.2824264 ]\n",
      " [ 5.86338601]]\n",
      "=====================================\n",
      "a= \n",
      "[[ 0.60809283]\n",
      " [ 0.40552935]\n",
      " [-1.86379499]\n",
      " [ 0.48146923]]\n",
      "=====================================\n",
      "c= \n",
      "[[  8.69816929]\n",
      " [ -7.56647639]\n",
      " [-10.14622139]\n",
      " [  6.34485525]]\n",
      "=====================================\n",
      "d= \n",
      "[[ 4.91951748]\n",
      " [-3.23288231]\n",
      " [15.43674482]\n",
      " [ 2.82303997]]\n",
      "=====================================\n",
      "=====================================\n",
      "Redimensionamiento de Mr1 es: \n",
      "[[ 8.09007646 -7.97200574]\n",
      " [-8.2824264   5.86338601]]\n",
      "=====================================\n",
      "Redimensionamiento de Mr2 es: \n",
      "[[ 0.60809283  0.40552935]\n",
      " [-1.86379499  0.48146923]]\n",
      "f= \n",
      "[[ 19.77770182  -0.55751204]\n",
      " [-15.96463356  -0.53572703]]\n",
      "=====================================\n"
     ]
    }
   ],
   "source": [
    "#Crear arreglos aleatorios de 4*1 entre -10 y 10\n",
    "a = 20*np.random.rand(4,1) - 10\n",
    "print(\"a= \\n\" + str(a))\n",
    "print(\"=====================================\")\n",
    "\n",
    "b = 4*np.random.rand(4,1) - 2\n",
    "print(\"a= \\n\" + str(b))\n",
    "print(\"=====================================\")\n",
    "\n",
    "c = a+b\n",
    "print(\"c= \\n\" + str(c))\n",
    "print(\"=====================================\")\n",
    "\n",
    "d = a*b #Producto elemento a elemento\n",
    "print(\"d= \\n\" + str(d))\n",
    "print(\"=====================================\")\n",
    "\n",
    "# e = np.dot(a.T, b) #Producto punto\n",
    "# print(\"e= \\n\" + str(e))\n",
    "# print(\"=====================================\")\n",
    "\n",
    "Mr1 = a.reshape([2,2])\n",
    "print(\"=====================================\")\n",
    "print(\"Redimensionamiento de Mr1 es: \\n\" + str(Mr1))\n",
    "\n",
    "Mr2 = b.reshape([2,2])\n",
    "print(\"=====================================\")\n",
    "print(\"Redimensionamiento de Mr2 es: \\n\" + str(Mr2))\n",
    "\n",
    "f = np.dot(Mr1, Mr2)\n",
    "print(\"f= \\n\" + str(f))\n",
    "print(\"=====================================\")\n",
    "\n"
   ]
  },
  {
   "cell_type": "markdown",
   "metadata": {},
   "source": [
    "## 5.- Clase linalg \n",
    "Numpy provee una clase llamada linalg, que permite hacer operaciones avanzadas de algebra líneal. Como por ejemplo, calcular una inversa"
   ]
  },
  {
   "cell_type": "code",
   "execution_count": 8,
   "metadata": {},
   "outputs": [
    {
     "name": "stdout",
     "output_type": "stream",
     "text": [
      "La matriz inversa de f es: \n",
      "[[ 0.02747892 -0.02859634]\n",
      " [-0.81887028 -1.01445312]]\n",
      "=====================================\n",
      "La operación de f * Minv es: \n",
      "[[ 1.00000000e+00  3.62253796e-17]\n",
      " [-2.83413604e-17  1.00000000e+00]]\n",
      "La operación de f * Minv es: \n",
      "[[ 1.00000000e+00  3.62253796e-17]\n",
      " [-2.83413604e-17  1.00000000e+00]]\n"
     ]
    }
   ],
   "source": [
    "#Inversa de un matriz\n",
    "Minv = np.linalg.inv(f)\n",
    "print(\"La matriz inversa de f es: \\n\" + str(Minv))\n",
    "print(\"=====================================\")\n",
    "\n",
    "print(\"La operación de f * Minv es: \\n\" + str(np.dot(f, Minv)))\n",
    "print(\"La operación de f * Minv es: \\n\" + str(f @ Minv) )"
   ]
  },
  {
   "cell_type": "code",
   "execution_count": 9,
   "metadata": {},
   "outputs": [
    {
     "name": "stdout",
     "output_type": "stream",
     "text": [
      "La pseudo_inversa de f es: \n",
      "[[ 0.02747892 -0.02859634]\n",
      " [-0.81887028 -1.01445312]]\n",
      "=================================\n"
     ]
    }
   ],
   "source": [
    "#La pseudo-inversa\n",
    "G = np.linalg.pinv(f)\n",
    "print(\"La pseudo_inversa de f es: \\n\" + str(G))\n",
    "print(\"=================================\")"
   ]
  },
  {
   "cell_type": "code",
   "execution_count": 10,
   "metadata": {},
   "outputs": [
    {
     "name": "stdout",
     "output_type": "stream",
     "text": [
      "-0.856365338992302\n"
     ]
    }
   ],
   "source": [
    "#Funciones trigonométricas\n",
    "r = 2*np.sin(35)\n",
    "print(r)"
   ]
  },
  {
   "cell_type": "code",
   "execution_count": 11,
   "metadata": {},
   "outputs": [
    {
     "name": "stdout",
     "output_type": "stream",
     "text": [
      "-49.06611964554894\n"
     ]
    }
   ],
   "source": [
    "r2 = np.rad2deg(r)\n",
    "print(r2)"
   ]
  },
  {
   "cell_type": "code",
   "execution_count": 12,
   "metadata": {},
   "outputs": [
    {
     "name": "stdout",
     "output_type": "stream",
     "text": [
      "El determinante de la matriz f es: \n",
      "-19.495924888872278\n"
     ]
    }
   ],
   "source": [
    "Q = np.linalg.det(f)\n",
    "print(\"El determinante de la matriz f es: \\n\" + str(Q))"
   ]
  }
 ],
 "metadata": {
  "kernelspec": {
   "display_name": "Python 3",
   "language": "python",
   "name": "python3"
  },
  "language_info": {
   "codemirror_mode": {
    "name": "ipython",
    "version": 3
   },
   "file_extension": ".py",
   "mimetype": "text/x-python",
   "name": "python",
   "nbconvert_exporter": "python",
   "pygments_lexer": "ipython3",
   "version": "3.12.2"
  }
 },
 "nbformat": 4,
 "nbformat_minor": 2
}
